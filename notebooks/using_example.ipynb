{
 "cells": [
  {
   "cell_type": "code",
   "execution_count": null,
   "metadata": {},
   "outputs": [],
   "source": [
    "%load_ext autoreload\n",
    "%autoreload 2\n",
    "\n",
    "import sys\n",
    "import os\n",
    "\n",
    "# Add the parent directory to the path so we can import the module\n",
    "sys.path.append(os.path.abspath(os.path.join('..')))"
   ]
  },
  {
   "cell_type": "code",
   "execution_count": null,
   "metadata": {},
   "outputs": [],
   "source": [
    "from modules.needleman_wunsch.nw_core import *\n",
    "from modules.result_evaluation import *\n",
    "from modules.carillo_lipman_bounds import *\n",
    "from modules.needleman_wunsch.nw_cost import *"
   ]
  },
  {
   "cell_type": "code",
   "execution_count": null,
   "metadata": {},
   "outputs": [],
   "source": [
    "\t\n",
    "from Bio import AlignIO\n",
    "from Bio import pairwise2\n",
    "from Bio.Align import MultipleSeqAlignment\n",
    "from Bio import SeqIO"
   ]
  },
  {
   "cell_type": "markdown",
   "metadata": {},
   "source": [
    "# Needleman-Wunsch Algorithm Implementation\n",
    "\n",
    "This project implements multiple versions of the Needleman-Wunsch algorithm:\n",
    "\n",
    "- **Pairwise sequence alignment** (classic Needleman-Wunsch).  \n",
    "- **N-sequence progressive alignment**, where a list of \\( N \\) sequences is aligned sequentially:  \n",
    "  - First, sequences \\( S_0 \\) and \\( S_1 \\) are aligned.  \n",
    "  - Then, sequence \\( S_2 \\) is aligned to the existing alignment of \\( S_0 \\) and \\( S_1 \\).  \n",
    "  - This process continues iteratively until all \\( N \\) sequences are aligned.    \n",
    "- **N+M sequence alignment**, where two pre-aligned groups of \\( N \\) and \\( M \\) sequences are merged.  \n",
    "- **Multidimensional algorithm** for simultaneous alignment of K sequences.\n",
    "\n",
    "In all implementations, **gap opening cost > gap extension cost** to encourage the formation of fewer, larger gaps rather than multiple small gaps. This approach better reflects biological reality, as insertions and deletions in DNA, RNA, and protein evolution tend to occur in longer segments rather than isolated positions.\n",
    "\n",
    "The functions support alignment of both **nucleotide** (DNA/RNA) and **protein** sequences:\n",
    "\n",
    "- **For DNA/RNA alignment**, set `blosum_m=False`. The scoring scheme is:  \n",
    "  - **Match** = \\( +1 \\)  \n",
    "  - **Mismatch** = \\( -1 \\)  \n",
    "  - **Gap opening** = \\( -10 \\)  \n",
    "  - **Gap extension** = \\( -2 \\)  \n",
    "\n",
    "- **For protein alignment**, set `blosum_m=True` to use the **BLOSUM62** substitution matrix.\n",
    "\n",
    "Additionally, visualization functions are provided for **alignment matrices, final sequence alignment**, and other outputs to enhance clarity and debugging."
   ]
  },
  {
   "cell_type": "markdown",
   "metadata": {},
   "source": [
    "#### DNA/RNA examples\n",
    "\n",
    "The simpliest short example."
   ]
  },
  {
   "cell_type": "code",
   "execution_count": null,
   "metadata": {},
   "outputs": [],
   "source": [
    "blossum = False\n",
    "sequences = [\"ATCG\", \"AG\"]\n",
    "\n",
    "score, alignment = needleman_wunsch(sequences, blossum, print_result=True)"
   ]
  },
  {
   "cell_type": "markdown",
   "metadata": {},
   "source": [
    "Let's try longer sequences."
   ]
  },
  {
   "cell_type": "code",
   "execution_count": null,
   "metadata": {},
   "outputs": [],
   "source": [
    "blossum = False\n",
    "sequences = [\"ATCGTACGTCCTAGGCTAAGCTTAGCGTACGATCGTTAGCTA\", \"ATGCCGTTAGCCTAGGCTAAGCGTACGATCGTAGCTATTTA\"]\n",
    "\n",
    "score, alignment = needleman_wunsch(sequences, blossum, print_result=False)\n",
    "print_alignments(alignment)\n",
    "print(\"Score: \", score)"
   ]
  },
  {
   "cell_type": "markdown",
   "metadata": {},
   "source": [
    "Now we will test Needleman-Wunsch algorithm for N-sequence progressive alignment."
   ]
  },
  {
   "cell_type": "code",
   "execution_count": null,
   "metadata": {},
   "outputs": [],
   "source": [
    "blossum = False\n",
    "sequences = [\"TAGCCT\", \"CCATGCT\", \"TAGCCCTA\", \"CATGCT\", \"AGCT\", \"TAGTA\"]\n",
    "\n",
    "score, alignment = needleman_wunsch(sequences, blossum, print_result=True)\n",
    "print_alignments(alignment)\n",
    "print(\"Score: \", score)"
   ]
  },
  {
   "cell_type": "markdown",
   "metadata": {},
   "source": [
    "Finally, let's test Needleman-Wunsch algorithm for **N+M sequence alignment**, where two pre-aligned groups of \\( N \\) and \\( M \\) sequences are merged.  "
   ]
  },
  {
   "cell_type": "code",
   "execution_count": null,
   "metadata": {},
   "outputs": [],
   "source": [
    "blossum = False\n",
    "\n",
    "sequences = [\"TAGCCT\", \"CCATGCT\"]\n",
    "_, sequences1 = needleman_wunsch(sequences, blossum, print_result=False)\n",
    "print(\"Aligned sequences 1: \", sequences1)\n",
    "\n",
    "sequences = [\"CATGCT\", \"CAGCT\"]\n",
    "_, sequences2 = needleman_wunsch(sequences, blossum, print_result=False)\n",
    "print(\"Aligned sequences 2: \", sequences2)\n",
    "\n",
    "score, alignment = needleman_wunsch_multiple(sequences1, sequences2, blossum, print_result=True)"
   ]
  },
  {
   "cell_type": "markdown",
   "metadata": {},
   "source": [
    "#### Protein examples\n",
    "\n",
    "To test it we need just change blossum=True."
   ]
  },
  {
   "cell_type": "code",
   "execution_count": null,
   "metadata": {},
   "outputs": [],
   "source": [
    "sequences = [\"CHAT\", \"CAT\"]\n",
    "\n",
    "score, alignment = needleman_wunsch(sequences, True, print_result=True)"
   ]
  },
  {
   "cell_type": "code",
   "execution_count": null,
   "metadata": {},
   "outputs": [],
   "source": [
    "\n",
    "blossum = True\n",
    "sequences = [\"CHAT\", \"CAT\", \"HER\", \"HAT\", \"HARAT\"]\n",
    "\n",
    "score, alignment = needleman_wunsch(sequences, blossum, print_result=True)"
   ]
  },
  {
   "cell_type": "code",
   "execution_count": null,
   "metadata": {},
   "outputs": [],
   "source": [
    "\n",
    "blossum = True\n",
    "sequences = [\"CANSAT\", \"CANS\", \"CAN\"]\n",
    "\n",
    "score, alignment = needleman_wunsch(sequences, blossum, print_result=True)"
   ]
  },
  {
   "cell_type": "code",
   "execution_count": null,
   "metadata": {},
   "outputs": [],
   "source": [
    "blossum = True\n",
    "sequences1 = [\"CHAT\", \"C-AT\"]\n",
    "sequences2 = [\"HER--\", \"HA--T\", \"HARAT\"]\n",
    "\n",
    "score, alignment = needleman_wunsch_multiple(sequences1, sequences2, blossum, print_result=True)"
   ]
  },
  {
   "cell_type": "markdown",
   "metadata": {},
   "source": [
    "## Evaluation of the Needleman-Wunsch Algorithm\n",
    "\n",
    "To verify the correctness of the classic Needleman-Wunsch algorithm, I compared my implementation with the reference implementation from the **Biopython** library. \n",
    "\n",
    "For evaluating the alignment quality, the **sum-of-pairs (SP) score** was used. This metric is widely used in multiple sequence alignment because it provides a straightforward way to assess alignment quality by summing the pairwise similarity scores across all aligned positions. It effectively captures the consistency of alignments and allows direct comparison between different methods.\n",
    "\n",
    "Additionally, the implemented **alignment comparison function** accounts for cases where sequences in the two alignments may be presented in a different order. It calculates the **SP-score for both possible orderings** and selects the maximum value, ensuring that identical alignments are correctly recognized as fully matching, even if the sequence order differs."
   ]
  },
  {
   "cell_type": "code",
   "execution_count": null,
   "metadata": {},
   "outputs": [],
   "source": [
    "substitution_matrix = substitution_matrices.load(\"BLOSUM62\")\n",
    "gap_open_penalty = -10\n",
    "gap_extension_penalty = -2\n",
    "seq1 = \"CHAT\"\n",
    "seq2 = \"CAT\"\n",
    "\n",
    "test_biopython_vs_custom(seq1, seq2, True, gap_open_penalty, gap_extension_penalty)"
   ]
  },
  {
   "cell_type": "code",
   "execution_count": null,
   "metadata": {},
   "outputs": [],
   "source": [
    "substitution_matrix = substitution_matrices.load(\"BLOSUM62\")\n",
    "gap_open_penalty = -10\n",
    "gap_extension_penalty = -2\n",
    "seq1 = \"MCGNIQLEYAHHGPATQFLWTYIMIGCLKFKGFREQHFYIPGICKDWHFKFLCFYRMIHIPIGPGYITQNTSPAGHYRHSEKAICVMQMFKYICRFRA\"\n",
    "seq2 = \"MHGQLEYIAHSPATRFLYTIGCLKFKWFREHHFNIPGECKDWHFKFDCFYRMIHIPIGPAIMYITSPAGHYRHSEMAITVMQMNKVGCRFRDICLYFVES\"\n",
    "\n",
    "test_biopython_vs_custom(seq1, seq2, True, gap_open_penalty, gap_extension_penalty)"
   ]
  },
  {
   "cell_type": "code",
   "execution_count": null,
   "metadata": {},
   "outputs": [],
   "source": [
    "substitution_matrix = substitution_matrices.load(\"BLOSUM62\")\n",
    "gap_open_penalty = -10\n",
    "gap_extension_penalty = -2\n",
    "seq1 = \"MCGNIQLEYAHHGPATQFLWTYIMIGCLKFKGFRQHFYIPGICKDWHFKFLCFYRMIHIPIYITQNTSPAGHYRHSEKAICVMQMFKYICRFRA\"\n",
    "seq2 = \"MHGQLEYIAHSPATRFLYTIGCLKFKWFRIPGECKDWHFKFDCFYRMIHIPIGPAIMYITSPAGHYRHSEMAITVMQMNKVGCRFRDICLYFVES\"\n",
    "\n",
    "test_biopython_vs_custom(seq1, seq2, True, gap_open_penalty, gap_extension_penalty)"
   ]
  },
  {
   "cell_type": "markdown",
   "metadata": {},
   "source": [
    "# Multidimensional Extension of the Needleman-Wunsch Algorithm\n",
    "\n",
    "This project extends the classic Needleman-Wunsch algorithm to support **simultaneous multiple sequence alignment** by constructing a **multidimensional dynamic programming (DP) matrix**. Unlike the progressive approach, where sequences are aligned sequentially, this method builds an \\( N^K \\) matrix directly, considering all \\( K \\) sequences at once.\n",
    "\n",
    "### **Scoring Scheme**\n",
    "The algorithm supports alignment of both **nucleotide (DNA/RNA)** and **protein sequences**:\n",
    "- **For DNA/RNA alignment**, set `blosum_m=False`. The scoring scheme is:  \n",
    "  - **Match** = \\( +1 \\)  \n",
    "  - **Mismatch** = \\( -1 \\)  \n",
    "  - **Gap opening** = \\( -10 \\)  \n",
    "  - **Gap extension** = \\( -2 \\)  \n",
    "\n",
    "- **For protein alignment**, set `blosum_m=True` to use the **BLOSUM62** substitution matrix.\n",
    "\n",
    "Additionally, the cost function distinguishes between **gap opening** and **gap extension**, ensuring \n",
    "\n",
    "biologically realistic alignments by favoring longer gaps over multiple small insertions.\n",
    "\n",
    "### **Matrix Visualization**\n",
    "A key feature of this implementation is the ability to **visualize matrix slices** when aligning exactly **three sequences** (\\( K=3 \\)). This allows for:\n",
    "- **Heatmap visualization** of DP matrix values for each slice along the third dimension.\n",
    "- **Comparison of alignment scores** across different prefixes.\n",
    "- **Identification of alignment trends and patterns** in a more intuitive way.\n",
    "\n",
    "However, for \\( K > 3 \\), direct visualization becomes impractical due to dimensionality constraints. Only **2D slices of the 3D matrix** can be visualized, meaning **traceback arrows are not displayed** in the plots.\n",
    "\n",
    "This extension significantly enhances the ability to perform **exact multiple sequence alignment** while also providing useful visualization tools for debugging and analysis."
   ]
  },
  {
   "cell_type": "code",
   "execution_count": null,
   "metadata": {},
   "outputs": [],
   "source": [
    "sequences = [\"HER\", \"CAT\", \"HAT\"]\n",
    "blosum_m = True\n",
    "carillo = False\n",
    "gap_opening_score = -10\n",
    "gap_extension_score = -2\n",
    "identity_score = 1\n",
    "substitution_score = -1\n",
    "\n",
    "needleman_wunsch_multidim(\n",
    "    sequences, blosum_m, carillo, gap_opening_score=-10, gap_extension_score=-2, \n",
    "    print_result=True, identity_score=1, substitution_score=-1\n",
    "    )"
   ]
  },
  {
   "cell_type": "code",
   "execution_count": null,
   "metadata": {},
   "outputs": [],
   "source": [
    "sequences = [\"CHAT\", \"RAT\", \"CAT\"]\n",
    "blosum_m = True\n",
    "carillo = False\n",
    "gap_opening_score = -10\n",
    "gap_extension_score = -2\n",
    "identity_score = 1\n",
    "substitution_score = -1\n",
    "\n",
    "needleman_wunsch_multidim(\n",
    "    sequences, blosum_m, carillo, gap_opening_score=-10, gap_extension_score=-2, \n",
    "    print_result=True, identity_score=1, substitution_score=-1\n",
    "    )"
   ]
  },
  {
   "cell_type": "code",
   "execution_count": null,
   "metadata": {},
   "outputs": [],
   "source": [
    "sequences = [\"HER\", \"CAT\", \"HAT\", \"RAT\", \"CHAT\", \"HARAT\"]\n",
    "blosum_m = True\n",
    "carillo = False\n",
    "gap_opening_score = -10\n",
    "gap_extension_score = -2\n",
    "identity_score = 1\n",
    "substitution_score = -1\n",
    "\n",
    "needleman_wunsch_multidim(sequences, blosum_m, carillo, gap_opening_score=-10, gap_extension_score=-2, print_result=True, identity_score=1, substitution_score=-1)"
   ]
  },
  {
   "cell_type": "markdown",
   "metadata": {},
   "source": [
    "# Carillo-Lipman Bounds in Multiple Sequence Alignment\n",
    "## Introduction\n",
    "\n",
    "The **Carillo-Lipman bounding method** is an optimization technique used in **multiple sequence alignment (MSA)** to reduce the computational complexity of aligning multiple biological sequences. This method allows for a more efficient dynamic programming approach by identifying **bounds** on where each sequence can be placed within an alignment.\n",
    "\n",
    "Instead of constructing a full **N-dimensional Needleman-Wunsch matrix**, the Carillo-Lipman approach utilizes **pairwise alignments** to determine **upper and lower bounds** for the placement of each sequence. These bounds limit the search space, reducing unnecessary computations and improving efficiency.\n",
    "\n",
    "## Using Carillo-Lipman Bounds in Multidimensional Needleman-Wunsch\n",
    "\n",
    "The Carillo-Lipman bounds help **reduce the number of computed cells** in the multidimensional Needleman-Wunsch algorithm by defining **valid alignment regions**. The main steps are:\n",
    "\n",
    "1. **Compute Carillo-Lipman bounds for each sequence**:\n",
    "   - Define the **min/max valid indices** for each sequence.\n",
    "   - Precompute the **maximum possible gaps** before the last letter.\n",
    "\n",
    "2. **Initialize the DP matrix**:\n",
    "   - Set up the matrix **only within valid bounds**.\n",
    "   - Track the remaining **available gaps** for each sequence.\n",
    "\n",
    "3. **Fill the DP matrix efficiently**:\n",
    "   - Iterate over **only valid indices** within Carillo-Lipman constraints.\n",
    "   - Before computing the score:\n",
    "     - Check if **remaining gaps** would become negative.\n",
    "     - If so, **skip the transition**.\n",
    "   - If **no valid transitions exist** → assign **\\( -\\infty \\)** to the cell.\n",
    "\n",
    "4. **Traceback to reconstruct the alignment**."
   ]
  },
  {
   "cell_type": "markdown",
   "metadata": {},
   "source": [
    "## Carillo-Lipman Efficiency Calculation\n",
    "\n",
    "The efficiency of Carillo-Lipman bounds in the **Multidimensional Needleman-Wunsch algorithm** is calculated as:\n",
    "\n",
    "$$\n",
    "\\text{efficiency} = \\frac{\\text{skipped cells}}{\\text{total possible cells}}\n",
    "$$\n",
    "\n",
    "Where:\n",
    "- **Skipped cells** — number of matrix cells that were skipped due to Carillo-Lipman bounds.\n",
    "- **Total possible cells** — the total number of cells in the dynamic programming matrix."
   ]
  },
  {
   "cell_type": "code",
   "execution_count": null,
   "metadata": {},
   "outputs": [],
   "source": [
    "sequences = [\"HER\", \"CAT\", \"HAT\", \"RAT\", \"CHAT\", \"HARAT\"]\n",
    "blosum_m = True\n",
    "gap_opening_score = -10\n",
    "gap_extension_score = -2\n",
    "identity_score = 1\n",
    "substitution_score = -1\n",
    "\n",
    "compute_carillo_lipman_bounds(\n",
    "    sequences, blosum_m, True, gap_opening_score, gap_extension_score, \n",
    "    identity_score=1, substitution_score=-1)"
   ]
  },
  {
   "cell_type": "code",
   "execution_count": null,
   "metadata": {},
   "outputs": [],
   "source": [
    "sequences = [\"CANSAT\", \"CAN\", \"CANS\"]\n",
    "blosum_m = True\n",
    "carillo = False\n",
    "gap_opening_score = -10\n",
    "gap_extension_score = -2\n",
    "identity_score = 1\n",
    "substitution_score = -1\n",
    "\n",
    "needleman_wunsch_multidim(sequences, blosum_m, carillo, gap_opening_score=-10, gap_extension_score=-2, print_result=True, identity_score=1, substitution_score=-1)"
   ]
  },
  {
   "cell_type": "code",
   "execution_count": null,
   "metadata": {},
   "outputs": [],
   "source": [
    "sequences = [\"CANSAT\", \"CAN\", \"CANS\"]\n",
    "blosum_m = True\n",
    "carillo = True\n",
    "gap_opening_score = -10\n",
    "gap_extension_score = -2\n",
    "identity_score = 1\n",
    "substitution_score = -1\n",
    "\n",
    "needleman_wunsch_multidim(sequences, blosum_m, carillo, gap_opening_score=-10, gap_extension_score=-2, print_result=True, identity_score=1, substitution_score=-1)"
   ]
  },
  {
   "cell_type": "code",
   "execution_count": null,
   "metadata": {},
   "outputs": [],
   "source": [
    "seq1 = \"MHGQLEYEAHHGPAT\"\n",
    "seq2 = \"MHGQLEYAHSPATRFLYTIG\"\n",
    "seq3 = \"MHGQLEYIPATRFL\"\n",
    "sequences = [seq1, seq2, seq3]\n",
    "blosum_m = True\n",
    "carillo = True\n",
    "gap_opening_score = -10\n",
    "gap_extension_score = -2\n",
    "identity_score = 1\n",
    "substitution_score = -1\n",
    "\n",
    "needleman_wunsch_multidim(sequences, blosum_m, carillo, gap_opening_score=-10, gap_extension_score=-2, print_result=True, identity_score=1, substitution_score=-1)"
   ]
  },
  {
   "cell_type": "code",
   "execution_count": null,
   "metadata": {},
   "outputs": [],
   "source": [
    "seq1 = \"MHGQLEYEAHHGPAT\"\n",
    "seq2 = \"MHGQLEYAHSPATRFLYTIG\"\n",
    "seq3 = \"MHGQLEYIPATRFL\"\n",
    "sequences = [seq1, seq2, seq3]\n",
    "blosum_m = True\n",
    "carillo = False\n",
    "gap_opening_score = -10\n",
    "gap_extension_score = -2\n",
    "identity_score = 1\n",
    "substitution_score = -1\n",
    "\n",
    "needleman_wunsch_multidim(sequences, blosum_m, carillo, gap_opening_score=-10, gap_extension_score=-2, print_result=True, identity_score=1, substitution_score=-1)"
   ]
  },
  {
   "cell_type": "markdown",
   "metadata": {},
   "source": [
    "# Carillo-Lipman Bounds in Multiple Sequence Alignment: real data test\n",
    "\n",
    "To evaluate the performance of my **multidimensional Needleman-Wunsch algorithm**, **BAliBASE** was used, a widely recognized benchmark for multiple sequence alignment (MSA). \n",
    "\n",
    "**BAliBASE (Benchmark Alignment dataBASE)** provides high-quality **reference alignments** for testing and validating MSA algorithms. It contains **manually curated** alignments based on structural and evolutionary data, making it an excellent benchmark for evaluating alignment accuracy.\n",
    "\n",
    "For assessing alignment quality, the **Sum-of-Pairs (SP) metric** was used, which is one of the most commonly used scoring methods in MSA. The SP metric calculates the **pairwise alignment score across all sequence pairs**, providing an **objective measure of how well sequences are aligned** compared to the reference. \n",
    "\n",
    "By combining **BAliBASE reference alignments** with the **SP metric**, I can effectively **test and validate** the performance of my algorithm, ensuring its accuracy and robustness."
   ]
  },
  {
   "cell_type": "code",
   "execution_count": null,
   "metadata": {},
   "outputs": [],
   "source": [
    "unaligned_file = \"../balibase/RV11.unaligned/BB11001.fasta\"\n",
    "aligned_file = \"../balibase/RV11.aligned/BB11001.fasta\"\n",
    "\n",
    "unaligned_sequences = [str(record.seq) for record in SeqIO.parse(unaligned_file, \"fasta\")]\n",
    "reference_alignment = [str(record.seq) for record in SeqIO.parse(aligned_file, \"fasta\")]\n",
    "\n",
    "print(\"Unaligned sequences: \")\n",
    "for seq in unaligned_sequences[:-1]:\n",
    "    print(seq)"
   ]
  },
  {
   "cell_type": "code",
   "execution_count": null,
   "metadata": {},
   "outputs": [],
   "source": [
    "sequences = unaligned_sequences[:-1]\n",
    "blosum_m = True\n",
    "carillo = True\n",
    "gap_opening_score = -10\n",
    "gap_extension_score = -2\n",
    "identity_score = 1\n",
    "substitution_score = -1\n",
    "\n",
    "score, aligned_sequences = needleman_wunsch_multidim(\n",
    "    sequences, blosum_m, carillo, gap_opening_score=-10, gap_extension_score=-2, print_result=False, identity_score=1, substitution_score=-1)"
   ]
  },
  {
   "cell_type": "code",
   "execution_count": null,
   "metadata": {},
   "outputs": [],
   "source": [
    "print(\"Custom alignment: \")\n",
    "print_alignments(aligned_sequences)\n",
    "print()\n",
    "print(\"Reference alignment: \")\n",
    "print_alignments(reference_alignment)"
   ]
  },
  {
   "cell_type": "markdown",
   "metadata": {},
   "source": [
    "Too long for real 4 sequences alignment even with Carillo-Lipman method. With alignments only for 3 sequences difficult to compare, because in case of 4 sequences we will get another alignment than for 3 sequences."
   ]
  },
  {
   "cell_type": "code",
   "execution_count": null,
   "metadata": {},
   "outputs": [],
   "source": []
  }
 ],
 "metadata": {
  "kernelspec": {
   "display_name": "Python 3",
   "language": "python",
   "name": "python3"
  },
  "language_info": {
   "codemirror_mode": {
    "name": "ipython",
    "version": 3
   },
   "file_extension": ".py",
   "mimetype": "text/x-python",
   "name": "python",
   "nbconvert_exporter": "python",
   "pygments_lexer": "ipython3",
   "version": "3.11.1"
  }
 },
 "nbformat": 4,
 "nbformat_minor": 2
}
