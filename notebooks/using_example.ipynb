{
 "cells": [
  {
   "cell_type": "code",
   "execution_count": null,
   "metadata": {},
   "outputs": [],
   "source": [
    "%load_ext autoreload\n",
    "%autoreload 2\n",
    "\n",
    "import sys\n",
    "import os\n",
    "\n",
    "# Add the parent directory to the path so we can import the module\n",
    "sys.path.append(os.path.abspath(os.path.join('..')))"
   ]
  },
  {
   "cell_type": "code",
   "execution_count": null,
   "metadata": {},
   "outputs": [],
   "source": [
    "from Bio import pairwise2\n",
    "from Bio.Align import substitution_matrices"
   ]
  },
  {
   "cell_type": "code",
   "execution_count": null,
   "metadata": {},
   "outputs": [],
   "source": [
    "from modules.needleman_wuhsch import *"
   ]
  },
  {
   "cell_type": "markdown",
   "metadata": {},
   "source": [
    "# Needleman-Wunsch Algorithm Implementation\n",
    "\n",
    "This project implements multiple versions of the Needleman-Wunsch algorithm:\n",
    "\n",
    "- **Pairwise sequence alignment** (classic Needleman-Wunsch).  \n",
    "- **N-sequence progressive alignment**, where a list of \\( N \\) sequences is aligned sequentially:  \n",
    "  - First, sequences \\( S_0 \\) and \\( S_1 \\) are aligned.  \n",
    "  - Then, sequence \\( S_2 \\) is aligned to the existing alignment of \\( S_0 \\) and \\( S_1 \\).  \n",
    "  - This process continues iteratively until all \\( N \\) sequences are aligned.    \n",
    "- **N+M sequence alignment**, where two pre-aligned groups of \\( N \\) and \\( M \\) sequences are merged.  \n",
    "\n",
    "In all implementations, **gap opening cost > gap extension cost** to encourage the formation of fewer, larger gaps rather than multiple small gaps. This approach better reflects biological reality, as insertions and deletions in DNA, RNA, and protein evolution tend to occur in longer segments rather than isolated positions.\n",
    "\n",
    "The functions support alignment of both **nucleotide** (DNA/RNA) and **protein** sequences:\n",
    "\n",
    "- **For DNA/RNA alignment**, set `blosum_m=False`. The scoring scheme is:  \n",
    "  - **Match** = \\( +1 \\)  \n",
    "  - **Mismatch** = \\( -1 \\)  \n",
    "  - **Gap opening** = \\( -10 \\)  \n",
    "  - **Gap extension** = \\( -2 \\)  \n",
    "\n",
    "- **For protein alignment**, set `blosum_m=True` to use the **BLOSUM62** substitution matrix.\n",
    "\n",
    "Additionally, visualization functions are provided for **alignment matrices, final sequence alignment**, and other outputs to enhance clarity and debugging."
   ]
  },
  {
   "cell_type": "markdown",
   "metadata": {},
   "source": [
    "#### DNA/RNA examples\n",
    "\n",
    "The simpliest short example."
   ]
  },
  {
   "cell_type": "code",
   "execution_count": null,
   "metadata": {},
   "outputs": [],
   "source": [
    "blossum = False\n",
    "sequences = [\"ATCG\", \"AG\"]\n",
    "\n",
    "score, alignment = needleman_wunsch(sequences, blossum, print_result=True)"
   ]
  },
  {
   "cell_type": "markdown",
   "metadata": {},
   "source": [
    "Let's try longer sequences."
   ]
  },
  {
   "cell_type": "code",
   "execution_count": null,
   "metadata": {},
   "outputs": [],
   "source": [
    "blossum = False\n",
    "sequences = [\"ATCGTACGTCCTAGGCTAAGCTTAGCGTACGATCGTTAGCTA\", \"ATGCCGTTAGCCTAGGCTAAGCGTACGATCGTAGCTATTTA\"]\n",
    "\n",
    "score, alignment = needleman_wunsch(sequences, blossum, print_result=False)\n",
    "print_alignments(alignment)\n",
    "print(\"Score: \", score)"
   ]
  },
  {
   "cell_type": "markdown",
   "metadata": {},
   "source": [
    "Now we will test Needleman-Wunsch algorithm for N-sequence progressive alignment."
   ]
  },
  {
   "cell_type": "code",
   "execution_count": null,
   "metadata": {},
   "outputs": [],
   "source": [
    "blossum = False\n",
    "sequences = [\"TAGCCT\", \"CCATGCT\", \"TAGCCCTA\", \"CATGCT\", \"AGCT\", \"TAGTA\"]\n",
    "\n",
    "score, alignment = needleman_wunsch(sequences, blossum, print_result=True)\n",
    "print_alignments(alignment)\n",
    "print(\"Score: \", score)"
   ]
  },
  {
   "cell_type": "markdown",
   "metadata": {},
   "source": [
    "Finally, let's test Needleman-Wunsch algorithm for **N+M sequence alignment**, where two pre-aligned groups of \\( N \\) and \\( M \\) sequences are merged.  "
   ]
  },
  {
   "cell_type": "code",
   "execution_count": null,
   "metadata": {},
   "outputs": [],
   "source": [
    "blossum = False\n",
    "\n",
    "sequences = [\"TAGCCT\", \"CCATGCT\"]\n",
    "_, sequences1 = needleman_wunsch(sequences, blossum, print_result=False)\n",
    "print(\"Aligned sequences 1: \", sequences1)\n",
    "\n",
    "sequences = [\"CATGCT\", \"CAGCT\"]\n",
    "_, sequences2 = needleman_wunsch(sequences, blossum, print_result=False)\n",
    "print(\"Aligned sequences 2: \", sequences2)\n",
    "\n",
    "score, alignment = needleman_wunsch_multiple(sequences1, sequences2, blossum, print_result=True)"
   ]
  },
  {
   "cell_type": "markdown",
   "metadata": {},
   "source": [
    "#### Protein examples\n",
    "\n",
    "To test it we need just change blossum=True."
   ]
  },
  {
   "cell_type": "code",
   "execution_count": null,
   "metadata": {},
   "outputs": [],
   "source": [
    "sequences = [\"CHAT\", \"CAT\"]\n",
    "\n",
    "score, alignment = needleman_wunsch(sequences, True, print_result=True)"
   ]
  },
  {
   "cell_type": "code",
   "execution_count": null,
   "metadata": {},
   "outputs": [],
   "source": [
    "\n",
    "blossum = True\n",
    "sequences = [\"CHAT\", \"CAT\", \"HER\", \"HAT\", \"HARAT\"]\n",
    "\n",
    "score, alignment = needleman_wunsch(sequences, blossum, print_result=True)"
   ]
  },
  {
   "cell_type": "code",
   "execution_count": null,
   "metadata": {},
   "outputs": [],
   "source": [
    "blossum = True\n",
    "sequences1 = [\"CHAT\", \"C-AT\"]\n",
    "sequences2 = [\"HER--\", \"HA--T\", \"HARAT\"]\n",
    "\n",
    "score, alignment = needleman_wunsch_multiple(sequences1, sequences2, blossum, print_result=True)"
   ]
  },
  {
   "cell_type": "markdown",
   "metadata": {},
   "source": [
    "## Evaluation of the Needleman-Wunsch Algorithm\n",
    "\n",
    "To verify the correctness of the classic Needleman-Wunsch algorithm, I compared my implementation with the reference implementation from the **Biopython** library. \n",
    "\n",
    "For evaluating the alignment quality, the **sum-of-pairs (SP) score** was used. This metric is widely used in multiple sequence alignment because it provides a straightforward way to assess alignment quality by summing the pairwise similarity scores across all aligned positions. It effectively captures the consistency of alignments and allows direct comparison between different methods.\n",
    "\n",
    "Additionally, the implemented **alignment comparison function** accounts for cases where sequences in the two alignments may be presented in a different order. It calculates the **SP-score for both possible orderings** and selects the maximum value, ensuring that identical alignments are correctly recognized as fully matching, even if the sequence order differs."
   ]
  },
  {
   "cell_type": "code",
   "execution_count": null,
   "metadata": {},
   "outputs": [],
   "source": [
    "from Bio.Align import PairwiseAligner\n",
    "\n",
    "aligner = PairwiseAligner()\n",
    "aligner.open_gap_score = -10\n",
    "aligner.extend_gap_score = -2\n",
    "print(f\"Gap opening penalty: {aligner.open_gap_score}\")\n",
    "print(f\"Gap extension penalty: {aligner.extend_gap_score}\")"
   ]
  },
  {
   "cell_type": "code",
   "execution_count": null,
   "metadata": {},
   "outputs": [],
   "source": [
    "def sp_score(alignment1, alignment2):\n",
    "    \"\"\"\n",
    "    Computes Sum-of-Pairs (SP) score to compare two multiple sequence alignments.\n",
    "\n",
    "    Parameters:\n",
    "    ----------\n",
    "    alignment1 : list of str\n",
    "        The first alignment (e.g., from user's algorithm).\n",
    "    alignment2 : list of str\n",
    "        The reference alignment (e.g., from BALIbase).\n",
    "\n",
    "    Returns:\n",
    "    -------\n",
    "    float\n",
    "        The similarity score (1 = identical, 0 = completely different).\n",
    "    \"\"\"\n",
    "    total_pairs = 0\n",
    "    matching_pairs = 0\n",
    "\n",
    "    for col in zip(*alignment1):\n",
    "        total_pairs += 1\n",
    "        if col in zip(*alignment2):  # Check if column exists in reference alignment\n",
    "            matching_pairs += 1\n",
    "\n",
    "    return matching_pairs / total_pairs if total_pairs > 0 else 0"
   ]
  },
  {
   "cell_type": "code",
   "execution_count": null,
   "metadata": {},
   "outputs": [],
   "source": [
    "def alignment_result_comparison(result1, result2):\n",
    "    \"\"\" \n",
    "    Compare two alignment results, considering sequence order variations.\n",
    "    \n",
    "    Parameters:\n",
    "    ----------\n",
    "    result1 : tuple (float, list of str, list of str)\n",
    "        Custom Needleman-Wunsch alignment result in the form (score, alignment1, alignment2).\n",
    "    result2 : tuple (float, list of str, list of str)\n",
    "        Biopython Needleman-Wunsch alignment result in the same format.\n",
    "    \n",
    "    Prints:\n",
    "    ------\n",
    "    - Whether the scores match.\n",
    "    - The highest similarity between alignments using the sum-of-pairs (SP) score.\n",
    "    \"\"\"\n",
    "\n",
    "    score1, alignment1_1, alignment1_2 = result1\n",
    "    score2, alignment2_1, alignment2_2 = result2\n",
    "\n",
    "    print(f\"Custom Needleman-Wunsch Score: {score1}\")\n",
    "    print(f\"Biopython Needleman-Wunsch Score: {score2}\")\n",
    "\n",
    "    if score1 == score2:\n",
    "        print(\"✅ The alignment scores match!\")\n",
    "    else:\n",
    "        print(\"❌ The alignment scores differ.\")\n",
    "\n",
    "    # Compute SP-score for both orderings and take the maximum\n",
    "    sp_similarity = max(\n",
    "        sp_score([alignment1_1, alignment1_2], [alignment2_1, alignment2_2]),\n",
    "        sp_score([alignment1_1, alignment1_2], [alignment2_2, alignment2_1])\n",
    "    )\n",
    "\n",
    "    print(f\"SP Similarity Score: {sp_similarity:.4f}\")\n",
    "\n",
    "    if sp_similarity == 1.0:\n",
    "        print(\"✅ Alignments are identical.\")\n",
    "    elif sp_similarity > 0.8:\n",
    "        print(\"⚠️ Alignments are highly similar but not identical.\")\n",
    "    else:\n",
    "        print(\"❌ Alignments differ significantly.\")"
   ]
  },
  {
   "cell_type": "code",
   "execution_count": null,
   "metadata": {},
   "outputs": [],
   "source": [
    "substitution_matrix = substitution_matrices.load(\"BLOSUM62\")\n",
    "gap_open_penalty = -10\n",
    "gap_extension_penalty = -2\n",
    "seq1 = \"CHAT\"\n",
    "seq2 = \"CAT\"\n",
    "\n",
    "alignments_biopython = pairwise2.align.globalds(seq1, seq2, substitution_matrix, gap_open_penalty, gap_extension_penalty)\n",
    "print(\"Biopython results: \\n\",alignments_biopython)\n",
    "print(\" \\nCustom results:\")\n",
    "score, alignment = needleman_wunsch([seq1, seq2], True, print_result=False)\n",
    "print_alignments(alignment)\n",
    "print()\n",
    "\n",
    "custom_result = (score, alignment[0], alignment[1])\n",
    "result_biopython = (alignments_biopython[0][2], alignments_biopython[0][0], alignments_biopython[0][1])\n",
    "alignment_result_comparison(custom_result, result_biopython)"
   ]
  },
  {
   "cell_type": "code",
   "execution_count": null,
   "metadata": {},
   "outputs": [],
   "source": [
    "substitution_matrix = substitution_matrices.load(\"BLOSUM62\")\n",
    "gap_open_penalty = -10\n",
    "gap_extension_penalty = -2\n",
    "seq1 = \"MCGNIQLEYAHHGPATQFLWTYIMIGCLKFKGFREQHFYIPGICKDWHFKFLCFYRMIHIPIGPGYITQNTSPAGHYRHSEKAICVMQMFKYICRFRA\"\n",
    "seq2 = \"MHGQLEYIAHSPATRFLYTIGCLKFKWFREHHFNIPGECKDWHFKFDCFYRMIHIPIGPAIMYITSPAGHYRHSEMAITVMQMNKVGCRFRDICLYFVES\"\n",
    "\n",
    "alignments_biopython = pairwise2.align.globalds(seq1, seq2, substitution_matrix, gap_open_penalty, gap_extension_penalty)\n",
    "print(\"Biopython results: \\n\",alignments_biopython)\n",
    "print(\" \\nCustom results:\")\n",
    "score, alignment = needleman_wunsch([seq1, seq2], True, print_result=False)\n",
    "print_alignments(alignment)\n",
    "print()\n",
    "\n",
    "custom_result = (score, alignment[0], alignment[1])\n",
    "result_biopython = (alignments_biopython[0][2], alignments_biopython[0][0], alignments_biopython[0][1])\n",
    "alignment_result_comparison(custom_result, result_biopython)"
   ]
  },
  {
   "cell_type": "code",
   "execution_count": null,
   "metadata": {},
   "outputs": [],
   "source": [
    "substitution_matrix = substitution_matrices.load(\"BLOSUM62\")\n",
    "gap_open_penalty = -15\n",
    "gap_extension_penalty = -5\n",
    "seq1 = \"MCGNIQLEYAHHGPATQFLWTYIMIGCLKFKGFRQHFYIPGICKDWHFKFLCFYRMIHIPIYITQNTSPAGHYRHSEKAICVMQMFKYICRFRA\"\n",
    "seq2 = \"MHGQLEYIAHSPATRFLYTIGCLKFKWFRIPGECKDWHFKFDCFYRMIHIPIGPAIMYITSPAGHYRHSEMAITVMQMNKVGCRFRDICLYFVES\"\n",
    "\n",
    "alignments_biopython = pairwise2.align.globalds(seq1, seq2, substitution_matrix, gap_open_penalty, gap_extension_penalty)\n",
    "print(\"Biopython results: \\n\",alignments_biopython)\n",
    "print_alignments([alignments_biopython[0][0], alignments_biopython[0][1]])\n",
    "print(\" \\nCustom results:\")\n",
    "score, alignment = needleman_wunsch([seq1, seq2], True, print_result=False, gap_opening_score=gap_open_penalty, gap_extension_score=gap_extension_penalty)\n",
    "print_alignments(alignment)\n",
    "print()\n",
    "\n",
    "custom_result = (score, alignment[0], alignment[1])\n",
    "result_biopython = (alignments_biopython[0][2], alignments_biopython[0][0], alignments_biopython[0][1])\n",
    "alignment_result_comparison(custom_result, result_biopython)"
   ]
  },
  {
   "cell_type": "code",
   "execution_count": null,
   "metadata": {},
   "outputs": [],
   "source": []
  }
 ],
 "metadata": {
  "kernelspec": {
   "display_name": "Python 3",
   "language": "python",
   "name": "python3"
  },
  "language_info": {
   "codemirror_mode": {
    "name": "ipython",
    "version": 3
   },
   "file_extension": ".py",
   "mimetype": "text/x-python",
   "name": "python",
   "nbconvert_exporter": "python",
   "pygments_lexer": "ipython3",
   "version": "3.11.1"
  }
 },
 "nbformat": 4,
 "nbformat_minor": 2
}
